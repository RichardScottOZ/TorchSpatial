{
 "cells": [
  {
   "cell_type": "code",
   "execution_count": 1,
   "metadata": {},
   "outputs": [
    {
     "name": "stdout",
     "output_type": "stream",
     "text": [
      "IPython will make a temporary file named: /var/folders/y5/4m7d403558sgz0sldvc7m5w40000gn/T/ipython_edit_fycjtau9/ipython_edit_q2e4ayc8.py\n"
     ]
    }
   ],
   "source": [
    "%edit\n",
    "%load_ext autoreload\n",
    "%autoreload 2\n",
    "\n",
    "import pickle\n",
    "import torch\n",
    "from collections import OrderedDict, defaultdict\n",
    "import random\n",
    "import json\n",
    "\n",
    "import numpy as np\n",
    "\n",
    "from space2vec.SpatialRelationEncoder import *\n",
    "from space2vec.module import *\n",
    "from space2vec.data_utils import *\n",
    "from space2vec.utils import *"
   ]
  },
  {
   "cell_type": "code",
   "execution_count": 2,
   "metadata": {},
   "outputs": [],
   "source": [
    "# specify the params for the location encoder, current spa_embed_dim is 128\n",
    "params = {\n",
    "    'spa_enc_type': 'gridcell',\n",
    "    'spa_embed_dim': 128, \n",
    "    'extent': (0, 200, 0, 200),\n",
    "    'freq': 16,\n",
    "    'max_radius': 283,\n",
    "    'min_radius': 1,\n",
    "    'spa_f_act': \"leakyrelu\",\n",
    "    'freq_init': 'geometric',\n",
    "    'num_hidden_layer': 1,\n",
    "    'dropout': 0.5,\n",
    "    'hidden_dim': 512,\n",
    "    'use_layn': True,\n",
    "    'skip_connection': True,\n",
    "    'num_rbf_anchor_pts': 0,\n",
    "    'rbf_kernal_size': 0,\n",
    "    'spa_enc_use_postmat': True,\n",
    "    'device': 'cpu'\n",
    "}"
   ]
  },
  {
   "cell_type": "code",
   "execution_count": 3,
   "metadata": {},
   "outputs": [
    {
     "name": "stderr",
     "output_type": "stream",
     "text": [
      "/Users/kuratome/Downloads/location_encoder/space2vec/module.py:96: UserWarning: nn.init.xavier_uniform is now deprecated in favor of nn.init.xavier_uniform_.\n",
      "  nn.init.xavier_uniform(self.linear.weight)\n"
     ]
    }
   ],
   "source": [
    "loc_enc = get_spa_encoder(\n",
    "                train_locs = [],\n",
    "                params = params, \n",
    "                spa_enc_type = params['spa_enc_type'], \n",
    "                spa_embed_dim = params['spa_embed_dim'], \n",
    "                extent = params['extent'], \n",
    "                coord_dim = 2,\n",
    "                frequency_num = params['freq'], \n",
    "                max_radius = params['max_radius'], \n",
    "                min_radius = params['min_radius'], \n",
    "                f_act = params['spa_f_act'], \n",
    "                freq_init = params['freq_init'],\n",
    "                num_rbf_anchor_pts = params['num_rbf_anchor_pts'], \n",
    "                rbf_kernal_size = params['rbf_kernal_size'],  \n",
    "                use_postmat = params['spa_enc_use_postmat'], \n",
    "                device = params['device']).to(params['device'])"
   ]
  },
  {
   "cell_type": "code",
   "execution_count": 4,
   "metadata": {},
   "outputs": [
    {
     "data": {
      "text/plain": [
       "array([[ 55,  71],\n",
       "       [115, 187],\n",
       "       [188,  87],\n",
       "       [176, 143],\n",
       "       [157,  10],\n",
       "       [ 88,  40],\n",
       "       [ 88, 189],\n",
       "       [175,  87],\n",
       "       [182,  61],\n",
       "       [100, 104]])"
      ]
     },
     "execution_count": 4,
     "metadata": {},
     "output_type": "execute_result"
    }
   ],
   "source": [
    "# synthetic coords data\n",
    "batch_size, coord_dim = 10, 2\n",
    "coords = np.random.randint(1, 201, size=(batch_size, coord_dim))\n",
    "\n",
    "# coords: shape [batch_size, 2]\n",
    "coords "
   ]
  },
  {
   "cell_type": "code",
   "execution_count": 5,
   "metadata": {},
   "outputs": [
    {
     "data": {
      "text/plain": [
       "tensor([[-0.1479,  1.3423, -0.0000,  ...,  0.4105,  1.9410,  0.5589],\n",
       "        [-0.0000,  1.2338,  3.6367,  ...,  0.0000,  0.0000,  3.0991],\n",
       "        [-0.7992,  2.9915, -0.0000,  ..., -0.0000,  0.0000, -0.0000],\n",
       "        ...,\n",
       "        [ 0.1175,  0.0000,  0.0000,  ...,  0.0000, -0.4429, -0.0000],\n",
       "        [ 0.0000, -0.0880, -0.2827,  ...,  0.0000, -0.5837, -0.8116],\n",
       "        [-0.0000,  0.0000, -0.0000,  ..., -0.1569, -0.3970, -0.7252]],\n",
       "       grad_fn=<SqueezeBackward0>)"
      ]
     },
     "execution_count": 5,
     "metadata": {},
     "output_type": "execute_result"
    }
   ],
   "source": [
    "coords = np.array(coords)\n",
    "coords = np.expand_dims(coords, axis=1)\n",
    "loc_embeds = torch.squeeze(loc_enc(coords))\n",
    "\n",
    "# loc_embed: shape [batch_size, spa_embed_dim]\n",
    "loc_embeds "
   ]
  }
 ],
 "metadata": {
  "kernelspec": {
   "display_name": "Python 3 (ipykernel)",
   "language": "python",
   "name": "python3"
  },
  "language_info": {
   "codemirror_mode": {
    "name": "ipython",
    "version": 3
   },
   "file_extension": ".py",
   "mimetype": "text/x-python",
   "name": "python",
   "nbconvert_exporter": "python",
   "pygments_lexer": "ipython3",
   "version": "3.8.15"
  }
 },
 "nbformat": 4,
 "nbformat_minor": 4
}
