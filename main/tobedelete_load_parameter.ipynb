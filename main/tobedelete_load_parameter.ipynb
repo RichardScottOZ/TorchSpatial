{
 "cells": [
  {
   "cell_type": "code",
   "execution_count": 30,
   "metadata": {},
   "outputs": [
    {
     "name": "stdout",
     "output_type": "stream",
     "text": [
      "dict_keys(['epoch', 'state_dict', 'optimizer', 'params'])\n"
     ]
    }
   ],
   "source": [
    "import torch\n",
    "\n",
    "# Load the .pth.tar file\n",
    "checkpoint = torch.load('../models/nerf/model_fmow_NeRF_inception_v3_0.0100_64_0.0500000_1_256.pth.tar')\n",
    "\n",
    "# View the keys of the checkpoint dictionary to understand its structure\n",
    "print(checkpoint.keys())\n",
    "\n",
    "# Access specific parameters, for example, the model state dictionary\n",
    "model_state_dict = checkpoint['state_dict']\n",
    "# print(model_state_dict)"
   ]
  },
  {
   "cell_type": "code",
   "execution_count": 31,
   "metadata": {},
   "outputs": [],
   "source": [
    "# checkpoint['params']"
   ]
  },
  {
   "cell_type": "code",
   "execution_count": 32,
   "metadata": {},
   "outputs": [
    {
     "data": {
      "text/plain": [
       "{'unsuper_dataset': 'birdsnap',\n",
       " 'unsuper_meta_type': 'birdsnap',\n",
       " 'dataset': 'fmow',\n",
       " 'meta_type': '',\n",
       " 'eval_split': 'val',\n",
       " 'load_val_op': True,\n",
       " 'cnn_model': 'inception_v3',\n",
       " 'load_cnn_predictions': False,\n",
       " 'load_cnn_features': False,\n",
       " 'load_cnn_features_train': False,\n",
       " 'load_img': False,\n",
       " 'inat2018_resolution': 'standard',\n",
       " 'cnn_pred_type': 'full',\n",
       " 'device': 'cuda:2',\n",
       " 'model_dir': '../models/nerf/',\n",
       " 'num_epochs': 30,\n",
       " 'num_epochs_unsuper': 30,\n",
       " 'spa_enc_type': 'NeRF',\n",
       " 'frequency_num': 64,\n",
       " 'max_radius': 1.0,\n",
       " 'min_radius': 0.05,\n",
       " 'num_hidden_layer': 1,\n",
       " 'hidden_dim': 256,\n",
       " 'num_rbf_anchor_pts': 200,\n",
       " 'rbf_kernel_size': 1.0,\n",
       " 'loc_encode': 'encode_cos_sin',\n",
       " 'num_filts': 256,\n",
       " 'freq_init': 'geometric',\n",
       " 'spa_f_act': 'relu',\n",
       " 'map_range': [-180, 180, -90, 90],\n",
       " 'use_layn': True,\n",
       " 'skip_connection': True,\n",
       " 'spa_enc_use_postmat': True,\n",
       " 'use_date_feats': False,\n",
       " 'date_encode': 'encode_cos_sin',\n",
       " 'train_loss': 'full_loss',\n",
       " 'neg_rand_type': 'spherical',\n",
       " 'train_sample_ratio': 1.0,\n",
       " 'train_sample_method': 'stratified-fix',\n",
       " 'unsuper_loss': 'none',\n",
       " 'num_neg_rand_loc': 1,\n",
       " 'rand_sample_weight': 1.0,\n",
       " 'simcse_weight': 0.0,\n",
       " 'unsuper_lr': 0.1,\n",
       " 'do_unsuper_train': False,\n",
       " 'load_unsuper_model': False,\n",
       " 'unsuper_temp_inbatch': 1,\n",
       " 'unsuper_temp_negloc': 1,\n",
       " 'unsuper_temp_simcse': 1,\n",
       " 'unsuper_eval_frequency': 10,\n",
       " 'lr': 0.01,\n",
       " 'lr_decay': 0.98,\n",
       " 'weight_decay': 0.0,\n",
       " 'dropout': 0.5,\n",
       " 'batch_size': 1024,\n",
       " 'log_frequency': 50,\n",
       " 'max_num_exs_per_class': 100,\n",
       " 'balanced_train_loader': True,\n",
       " 'eval_frequency': 10,\n",
       " 'unsuper_save_frequency': 5,\n",
       " 'load_super_model': False,\n",
       " 'do_super_train': True,\n",
       " 'do_epoch_save': False,\n",
       " 'num_classes': 62,\n",
       " 'rbf_anchor_pt_ids': None,\n",
       " 'unsuper_model_file_name': None,\n",
       " 'model_file_name': '../models/nerf/model_fmow_NeRF_inception_v3_0.0100_64_0.0500000_1_256.pth.tar',\n",
       " 'log_file_name': '../models/nerf/model_fmow_NeRF_inception_v3_0.0100_64_0.0500000_1_256.log',\n",
       " 'op_dir': 'image/ims_fmow_NeRF/',\n",
       " 'num_users': 1,\n",
       " 'num_loc_feats': 2,\n",
       " 'num_feats': 2}"
      ]
     },
     "execution_count": 32,
     "metadata": {},
     "output_type": "execute_result"
    }
   ],
   "source": [
    "checkpoint['params']"
   ]
  }
 ],
 "metadata": {
  "kernelspec": {
   "display_name": "nerf_jielu",
   "language": "python",
   "name": "python3"
  },
  "language_info": {
   "codemirror_mode": {
    "name": "ipython",
    "version": 3
   },
   "file_extension": ".py",
   "mimetype": "text/x-python",
   "name": "python",
   "nbconvert_exporter": "python",
   "pygments_lexer": "ipython3",
   "version": "3.10.0"
  }
 },
 "nbformat": 4,
 "nbformat_minor": 2
}
