{
 "cells": [
  {
   "cell_type": "markdown",
   "metadata": {},
   "source": [
    "# TorchSpatial Tutorial\n"
   ]
  },
  {
   "cell_type": "code",
   "execution_count": null,
   "metadata": {},
   "outputs": [],
   "source": []
  },
  {
   "cell_type": "markdown",
   "metadata": {},
   "source": [
    "# Data Download"
   ]
  },
  {
   "cell_type": "code",
   "execution_count": null,
   "metadata": {},
   "outputs": [],
   "source": [
    "# Set the corresponding data path:\n",
    "/data2/nw33659/TorchSpatial/main/paths.py"
   ]
  },
  {
   "cell_type": "markdown",
   "metadata": {},
   "source": [
    "## Location Encoder Usage Example"
   ]
  },
  {
   "cell_type": "code",
   "execution_count": null,
   "metadata": {},
   "outputs": [
    {
     "name": "stdout",
     "output_type": "stream",
     "text": [
      "IPython will make a temporary file named: /var/folders/y5/4m7d403558sgz0sldvc7m5w40000gn/T/ipython_edit_fycjtau9/ipython_edit_q2e4ayc8.py\n"
     ]
    }
   ],
   "source": [
    "import torch\n",
    "import numpy as np\n",
    "\n",
    "from space2vec.SpatialRelationEncoder import *\n",
    "from space2vec.module import *\n",
    "from space2vec.data_utils import *\n",
    "from space2vec.utils import *"
   ]
  },
  {
   "cell_type": "code",
   "execution_count": null,
   "metadata": {},
   "outputs": [],
   "source": [
    "# specify the params for the location encoder, current spa_embed_dim is 128\n",
    "params = {\n",
    "    'spa_enc_type': 'gridcell',\n",
    "    'spa_embed_dim': 128, \n",
    "    'extent': (0, 200, 0, 200),\n",
    "    'freq': 16,\n",
    "    'max_radius': 283,\n",
    "    'min_radius': 1,\n",
    "    'spa_f_act': \"leakyrelu\",\n",
    "    'freq_init': 'geometric',\n",
    "    'num_hidden_layer': 1,\n",
    "    'dropout': 0.5,\n",
    "    'hidden_dim': 512,\n",
    "    'use_layn': True,\n",
    "    'skip_connection': True,\n",
    "    'num_rbf_anchor_pts': 0,\n",
    "    'rbf_kernal_size': 0,\n",
    "    'spa_enc_use_postmat': True,\n",
    "    'device': 'cpu'\n",
    "}"
   ]
  },
  {
   "cell_type": "code",
   "execution_count": null,
   "metadata": {},
   "outputs": [
    {
     "name": "stderr",
     "output_type": "stream",
     "text": [
      "/Users/kuratome/Downloads/location_encoder/space2vec/module.py:96: UserWarning: nn.init.xavier_uniform is now deprecated in favor of nn.init.xavier_uniform_.\n",
      "  nn.init.xavier_uniform(self.linear.weight)\n"
     ]
    }
   ],
   "source": [
    "loc_enc = get_spa_encoder(\n",
    "                train_locs = [],\n",
    "                params = params, \n",
    "                spa_enc_type = params['spa_enc_type'], \n",
    "                spa_embed_dim = params['spa_embed_dim'], \n",
    "                extent = params['extent'], \n",
    "                coord_dim = 2,\n",
    "                frequency_num = params['freq'], \n",
    "                max_radius = params['max_radius'], \n",
    "                min_radius = params['min_radius'], \n",
    "                f_act = params['spa_f_act'], \n",
    "                freq_init = params['freq_init'],\n",
    "                num_rbf_anchor_pts = params['num_rbf_anchor_pts'], \n",
    "                rbf_kernal_size = params['rbf_kernal_size'],  \n",
    "                use_postmat = params['spa_enc_use_postmat'], \n",
    "                device = params['device']).to(params['device'])"
   ]
  },
  {
   "cell_type": "code",
   "execution_count": null,
   "metadata": {},
   "outputs": [
    {
     "data": {
      "text/plain": [
       "array([[ 55,  71],\n",
       "       [115, 187],\n",
       "       [188,  87],\n",
       "       [176, 143],\n",
       "       [157,  10],\n",
       "       [ 88,  40],\n",
       "       [ 88, 189],\n",
       "       [175,  87],\n",
       "       [182,  61],\n",
       "       [100, 104]])"
      ]
     },
     "metadata": {},
     "output_type": "display_data"
    }
   ],
   "source": [
    "# synthetic coords data\n",
    "batch_size, coord_dim = 10, 2\n",
    "coords = np.random.randint(1, 201, size=(batch_size, coord_dim))\n",
    "\n",
    "# coords: shape [batch_size, 2]\n",
    "coords "
   ]
  },
  {
   "cell_type": "code",
   "execution_count": null,
   "metadata": {},
   "outputs": [
    {
     "data": {
      "text/plain": [
       "tensor([[-0.1479,  1.3423, -0.0000,  ...,  0.4105,  1.9410,  0.5589],\n",
       "        [-0.0000,  1.2338,  3.6367,  ...,  0.0000,  0.0000,  3.0991],\n",
       "        [-0.7992,  2.9915, -0.0000,  ..., -0.0000,  0.0000, -0.0000],\n",
       "        ...,\n",
       "        [ 0.1175,  0.0000,  0.0000,  ...,  0.0000, -0.4429, -0.0000],\n",
       "        [ 0.0000, -0.0880, -0.2827,  ...,  0.0000, -0.5837, -0.8116],\n",
       "        [-0.0000,  0.0000, -0.0000,  ..., -0.1569, -0.3970, -0.7252]],\n",
       "       grad_fn=<SqueezeBackward0>)"
      ]
     },
     "metadata": {},
     "output_type": "display_data"
    }
   ],
   "source": [
    "coords = np.array(coords)\n",
    "coords = np.expand_dims(coords, axis=1)\n",
    "loc_embeds = torch.squeeze(loc_enc(coords))\n",
    "\n",
    "# loc_embed: shape [batch_size, spa_embed_dim]\n",
    "loc_embeds "
   ]
  },
  {
   "cell_type": "code",
   "execution_count": null,
   "metadata": {},
   "outputs": [],
   "source": [
    "# Initialize the encoder\n",
    "encoder = GridLookupSpatialRelationLocationEncoder(\n",
    "    spa_embed_dim=64,\n",
    "    extent=(-180, 180, -90, 90),  # Example extent\n",
    "    interval=1000000,  # Example interval\n",
    "    coord_dim=2,\n",
    "    device=\"cuda\",\n",
    "    ffn_act=\"relu\",\n",
    "    ffn_num_hidden_layers=1,\n",
    "    ffn_dropout_rate=0.5,\n",
    "    ffn_hidden_dim=256,\n",
    "    ffn_use_layernormalize=True,\n",
    "    ffn_skip_connection=True,\n",
    "    ffn_context_str=\"GridLookupSpatialRelationEncoder\"\n",
    ")\n",
    "\n",
    "coords = np.array([[34.0522, -118.2437], [40.7128, -74.0060]])  # Example coordinate data\n",
    "embeddings = encoder.forward(coords)"
   ]
  },
  {
   "cell_type": "code",
   "execution_count": null,
   "metadata": {},
   "outputs": [],
   "source": [
    "!wget https://figshare.com/ndownloader/files/47020978\n"
   ]
  },
  {
   "cell_type": "code",
   "execution_count": null,
   "metadata": {},
   "outputs": [],
   "source": [
    "!tar -xvf 47020978"
   ]
  },
  {
   "cell_type": "code",
   "execution_count": null,
   "metadata": {},
   "outputs": [],
   "source": [
    "!python3 main/main.py \\\n",
    "    --save_results T \\\n",
    "    --load_super_model T \\\n",
    "    --num_epochs 0 \\\n",
    "    --spa_enc_type NeRF \\\n",
    "    --meta_type ebird_meta \\\n",
    "    --dataset birdsnap \\\n",
    "    --eval_split test \\\n",
    "    --frequency_num 64 \\\n",
    "    --min_radius 0.02 \\\n",
    "    --max_radius 1 \\\n",
    "    --num_hidden_layer 1 \\\n",
    "    --hidden_dim 256 \\\n",
    "    --spa_f_act leakyrelu \\\n",
    "    --unsuper_lr 0.1 \\\n",
    "    --lr 0.01 \\\n",
    "    --model_dir ../models/nerf/ \\\n",
    "    --train_sample_ratio 1.0 \\\n",
    "    --device cuda:0\n"
   ]
  },
  {
   "cell_type": "code",
   "execution_count": null,
   "metadata": {},
   "outputs": [],
   "source": [
    "!pip install matplotlib"
   ]
  },
  {
   "cell_type": "code",
   "execution_count": null,
   "metadata": {},
   "outputs": [],
   "source": []
  }
 ],
 "metadata": {
  "kernelspec": {
   "display_name": "Python 3",
   "language": "python",
   "name": "python3"
  },
  "language_info": {
   "codemirror_mode": {
    "name": "ipython",
    "version": 3
   },
   "file_extension": ".py",
   "mimetype": "text/x-python",
   "name": "python",
   "nbconvert_exporter": "python",
   "pygments_lexer": "ipython3",
   "version": "3.10.12"
  }
 },
 "nbformat": 4,
 "nbformat_minor": 2
}
