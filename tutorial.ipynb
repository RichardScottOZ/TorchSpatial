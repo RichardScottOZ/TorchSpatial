{
 "cells": [
  {
   "cell_type": "markdown",
   "metadata": {},
   "source": [
    "# TorchSpatial Tutorial\n"
   ]
  },
  {
   "cell_type": "code",
   "execution_count": null,
   "metadata": {},
   "outputs": [],
   "source": []
  },
  {
   "cell_type": "markdown",
   "metadata": {},
   "source": [
    "# Data Download"
   ]
  },
  {
   "cell_type": "code",
   "execution_count": null,
   "metadata": {},
   "outputs": [],
   "source": [
    "# Set the corresponding data path:\n",
    "/data2/nw33659/TorchSpatial/main/paths.py"
   ]
  },
  {
   "cell_type": "markdown",
   "metadata": {},
   "source": [
    "## Location Encoder Usage Example"
   ]
  },
  {
   "cell_type": "code",
   "execution_count": null,
   "metadata": {},
   "outputs": [],
   "source": [
    "# Initialize the encoder\n",
    "encoder = GridLookupSpatialRelationLocationEncoder(\n",
    "    spa_embed_dim=64,\n",
    "    extent=(-180, 180, -90, 90),  # Example extent\n",
    "    interval=1000000,  # Example interval\n",
    "    coord_dim=2,\n",
    "    device=\"cuda\",\n",
    "    ffn_act=\"relu\",\n",
    "    ffn_num_hidden_layers=1,\n",
    "    ffn_dropout_rate=0.5,\n",
    "    ffn_hidden_dim=256,\n",
    "    ffn_use_layernormalize=True,\n",
    "    ffn_skip_connection=True,\n",
    "    ffn_context_str=\"GridLookupSpatialRelationEncoder\"\n",
    ")\n",
    "\n",
    "coords = np.array([[34.0522, -118.2437], [40.7128, -74.0060]])  # Example coordinate data\n",
    "embeddings = encoder.forward(coords)"
   ]
  },
  {
   "cell_type": "code",
   "execution_count": null,
   "metadata": {},
   "outputs": [],
   "source": [
    "!wget https://figshare.com/ndownloader/files/47020978\n"
   ]
  },
  {
   "cell_type": "code",
   "execution_count": null,
   "metadata": {},
   "outputs": [],
   "source": [
    "!tar -xvf 47020978"
   ]
  },
  {
   "cell_type": "code",
   "execution_count": null,
   "metadata": {},
   "outputs": [],
   "source": [
    "!python3 main/main.py \\\n",
    "    --save_results T \\\n",
    "    --load_super_model T \\\n",
    "    --num_epochs 0 \\\n",
    "    --spa_enc_type NeRF \\\n",
    "    --meta_type ebird_meta \\\n",
    "    --dataset birdsnap \\\n",
    "    --eval_split test \\\n",
    "    --frequency_num 64 \\\n",
    "    --min_radius 0.02 \\\n",
    "    --max_radius 1 \\\n",
    "    --num_hidden_layer 1 \\\n",
    "    --hidden_dim 256 \\\n",
    "    --spa_f_act leakyrelu \\\n",
    "    --unsuper_lr 0.1 \\\n",
    "    --lr 0.01 \\\n",
    "    --model_dir ../models/nerf/ \\\n",
    "    --train_sample_ratio 1.0 \\\n",
    "    --device cuda:0\n"
   ]
  },
  {
   "cell_type": "code",
   "execution_count": null,
   "metadata": {},
   "outputs": [],
   "source": [
    "!pip install matplotlib"
   ]
  },
  {
   "cell_type": "code",
   "execution_count": null,
   "metadata": {},
   "outputs": [],
   "source": []
  }
 ],
 "metadata": {
  "kernelspec": {
   "display_name": "Python 3",
   "language": "python",
   "name": "python3"
  },
  "language_info": {
   "codemirror_mode": {
    "name": "ipython",
    "version": 3
   },
   "file_extension": ".py",
   "mimetype": "text/x-python",
   "name": "python",
   "nbconvert_exporter": "python",
   "pygments_lexer": "ipython3",
   "version": "3.10.12"
  }
 },
 "nbformat": 4,
 "nbformat_minor": 2
}
